{
  "nbformat": 4,
  "nbformat_minor": 0,
  "metadata": {
    "colab": {
      "name": "sml4.ipynb",
      "provenance": [],
      "collapsed_sections": []
    },
    "kernelspec": {
      "name": "python3",
      "display_name": "Python 3"
    },
    "accelerator": "GPU"
  },
  "cells": [
    {
      "cell_type": "markdown",
      "metadata": {
        "id": "sh_1liOZqfGg",
        "colab_type": "text"
      },
      "source": [
        "# **Statistical Machine Learning: Exercise 4**"
      ]
    },
    {
      "cell_type": "code",
      "metadata": {
        "id": "lSCgG7KqqFW2",
        "colab_type": "code",
        "colab": {}
      },
      "source": [
        "import numpy as np\n",
        "from cvxopt import matrix\n",
        "import matplotlib.pyplot as plt\n",
        "from prettytable import PrettyTable\n",
        "%matplotlib inline"
      ],
      "execution_count": null,
      "outputs": []
    },
    {
      "cell_type": "code",
      "metadata": {
        "id": "GrO2I60_rZ_4",
        "colab_type": "code",
        "colab": {
          "base_uri": "https://localhost:8080/",
          "height": 119
        },
        "outputId": "b861a1d2-6a87-42ba-f2ee-03be656c2ce0"
      },
      "source": [
        "!git clone https://github.com/julieeecious/sml-dataset.git"
      ],
      "execution_count": null,
      "outputs": [
        {
          "output_type": "stream",
          "text": [
            "Cloning into 'sml-dataset'...\n",
            "remote: Enumerating objects: 29, done.\u001b[K\n",
            "remote: Counting objects: 100% (29/29), done.\u001b[K\n",
            "remote: Compressing objects: 100% (27/27), done.\u001b[K\n",
            "remote: Total 29 (delta 2), reused 0 (delta 0), pack-reused 0\u001b[K\n",
            "Unpacking objects: 100% (29/29), done.\n"
          ],
          "name": "stdout"
        }
      ]
    },
    {
      "cell_type": "code",
      "metadata": {
        "id": "FaRo8UqqoSAk",
        "colab_type": "code",
        "colab": {
          "base_uri": "https://localhost:8080/",
          "height": 51
        },
        "outputId": "2f84364e-c4b9-4107-a226-5eefde5642f5"
      },
      "source": [
        "ls sml-dataset/hw4"
      ],
      "execution_count": null,
      "outputs": [
        {
          "output_type": "stream",
          "text": [
            "iris-pca.txt             mnist_small_test_out.txt  mnist_small_train_out.txt\n",
            "mnist_small_test_in.txt  mnist_small_train_in.txt\n"
          ],
          "name": "stdout"
        }
      ]
    },
    {
      "cell_type": "markdown",
      "metadata": {
        "id": "IOotVpLPo7Hj",
        "colab_type": "text"
      },
      "source": [
        "# Task 1 Neural Networks"
      ]
    },
    {
      "cell_type": "markdown",
      "metadata": {
        "id": "3JeZCOfgYoF-",
        "colab_type": "text"
      },
      "source": [
        "## Problem Statement\n",
        "\n",
        "Given a dataset containing\n",
        "\n",
        "\n",
        "*   a training set of labeled images\n",
        "*   a test set of labeled images \n",
        "*   each image is of shape (784,), thus we reshape it to square (28, 28)\n",
        "\n"
      ]
    },
    {
      "cell_type": "code",
      "metadata": {
        "id": "npLflbSGyDR8",
        "colab_type": "code",
        "colab": {}
      },
      "source": [
        "train_x = np.loadtxt('sml-dataset/hw4/mnist_small_train_in.txt',delimiter=',',dtype=int)\n",
        "train_y = np.loadtxt('sml-dataset/hw4/mnist_small_train_out.txt',delimiter=',',dtype=int)\n",
        "test_x = np.loadtxt('sml-dataset/hw4/mnist_small_test_in.txt',delimiter=',',dtype=int)\n",
        "test_y = np.loadtxt('sml-dataset/hw4/mnist_small_test_out.txt',delimiter=',',dtype=int)"
      ],
      "execution_count": null,
      "outputs": []
    },
    {
      "cell_type": "code",
      "metadata": {
        "id": "QiDXNsCLZx3-",
        "colab_type": "code",
        "colab": {
          "base_uri": "https://localhost:8080/",
          "height": 153
        },
        "outputId": "f1000bdf-6cd9-4462-cb19-3b557785cc10"
      },
      "source": [
        "print(f'Number of training examples: {train_x.shape[0]}')\n",
        "print(f'Number of testing examples: {test_x.shape[0]}')\n",
        "print(f'Height/Width of each image: 28')\n",
        "print(f'Each image is of size: (28,28)')\n",
        "print(f'train_x shape: {train_x.shape}')\n",
        "print(f'train_y shape: {train_y.shape}')\n",
        "print(f'test_x shape: {test_x.shape}')\n",
        "print(f'test_y shape: {test_y.shape}')"
      ],
      "execution_count": null,
      "outputs": [
        {
          "output_type": "stream",
          "text": [
            "Number of training examples: 6006\n",
            "Number of testing examples: 1004\n",
            "Height/Width of each image: 28\n",
            "Each image is of size: (28,28)\n",
            "train_x shape: (6006, 784)\n",
            "train_y shape: (6006,)\n",
            "test_x shape: (1004, 784)\n",
            "test_y shape: (1004,)\n"
          ],
          "name": "stdout"
        }
      ]
    },
    {
      "cell_type": "markdown",
      "metadata": {
        "id": "lqGhSbxJbLJ8",
        "colab_type": "text"
      },
      "source": [
        "## Data Preprocessing\n",
        "\n",
        "A visualization of an example from the training set"
      ]
    },
    {
      "cell_type": "code",
      "metadata": {
        "id": "TkzZm16AyDP1",
        "colab_type": "code",
        "colab": {
          "base_uri": "https://localhost:8080/",
          "height": 282
        },
        "outputId": "2f1b9e7b-16e3-4cde-b0d6-545883c9dfce"
      },
      "source": [
        "plt.imshow(train_x[0].reshape((28,28)))\n",
        "plt.show"
      ],
      "execution_count": null,
      "outputs": [
        {
          "output_type": "execute_result",
          "data": {
            "text/plain": [
              "<function matplotlib.pyplot.show>"
            ]
          },
          "metadata": {
            "tags": []
          },
          "execution_count": 7
        },
        {
          "output_type": "display_data",
          "data": {
            "image/png": "[encoded data removed]",
            "text/plain": [
              "<Figure size 432x288 with 1 Axes>"
            ]
          },
          "metadata": {
            "tags": [],
            "needs_background": "light"
          }
        }
      ]
    },
    {
      "cell_type": "markdown",
      "metadata": {
        "id": "A_s5q_IhZkpf",
        "colab_type": "text"
      },
      "source": [
        "We reshape the dataset and clip the margin of original image, in order to reduce the noise and the number of parameters that we need to compute.\n"
      ]
    },
    {
      "cell_type": "code",
      "metadata": {
        "id": "UnTUB174UxZg",
        "colab_type": "code",
        "colab": {
          "base_uri": "https://localhost:8080/",
          "height": 68
        },
        "outputId": "6a66d880-9dae-4b5f-e3eb-8053a53ccb19"
      },
      "source": [
        "train_x2 = train_x.reshape((train_x.shape[0],28,28))\n",
        "train_x2 = train_x2[:,4:-4,4:-4].reshape(-1,400)\n",
        "test_x2 = test_x.reshape((test_x.shape[0],28,28))\n",
        "test_x2 = test_x2[:,4:-4,4:-4].reshape(-1,400)\n",
        "\n",
        "print(f'Each clipped image is of size: (20,20)')\n",
        "print(f'train_x shape: {train_x2.shape}')\n",
        "print(f'test_x shape: {test_x2.shape}')"
      ],
      "execution_count": null,
      "outputs": [
        {
          "output_type": "stream",
          "text": [
            "Each clipped image is of size: (20,20)\n",
            "train_x shape: (6006, 400)\n",
            "test_x shape: (1004, 400)\n"
          ],
          "name": "stdout"
        }
      ]
    },
    {
      "cell_type": "markdown",
      "metadata": {
        "id": "dh-gC2GQcSLk",
        "colab_type": "text"
      },
      "source": [
        "A clipped image"
      ]
    },
    {
      "cell_type": "code",
      "metadata": {
        "id": "ORMlFRCBUxe4",
        "colab_type": "code",
        "colab": {
          "base_uri": "https://localhost:8080/",
          "height": 282
        },
        "outputId": "ed95a88e-c897-49d4-84a7-8a4ed8fde9e7"
      },
      "source": [
        "plt.imshow(train_x2[0].reshape((20,20)))\n",
        "plt.show"
      ],
      "execution_count": null,
      "outputs": [
        {
          "output_type": "execute_result",
          "data": {
            "text/plain": [
              "<function matplotlib.pyplot.show>"
            ]
          },
          "metadata": {
            "tags": []
          },
          "execution_count": 9
        },
        {
          "output_type": "display_data",
          "data": {
            "image/png": "[encoded data removed]",
            "text/plain": [
              "<Figure size 432x288 with 1 Axes>"
            ]
          },
          "metadata": {
            "tags": [],
            "needs_background": "light"
          }
        }
      ]
    },
    {
      "cell_type": "markdown",
      "metadata": {
        "id": "NqBxkKJrceAf",
        "colab_type": "text"
      },
      "source": [
        "## Our Algorithm\n",
        "\n",
        "**Hyperparameters**\n",
        "\n",
        "After pre-processing, each image is of size 20px by 20px. Thus, we set the input layer size to 400. \n",
        "\n",
        "Since our dataset is a MNIST, there are in total 10 handwritten digit that we can to classify. Hence, the number of output is 10.\n",
        "\n",
        "To begin with, we chose to set a hidden layer to 25 units, learning rate 0.01 and 900 epochs."
      ]
    },
    {
      "cell_type": "code",
      "metadata": {
        "id": "S-b-n70No3VV",
        "colab_type": "code",
        "colab": {}
      },
      "source": [
        "input_layer_size = 400 \n",
        "hidden_layer_size = 25 \n",
        "num_label = 10 \n",
        "learning_rate = 0.01\n",
        "epoche = 900"
      ],
      "execution_count": null,
      "outputs": []
    },
    {
      "cell_type": "markdown",
      "metadata": {
        "id": "6O7mjt0mc9SK",
        "colab_type": "text"
      },
      "source": [
        "Helper Functions"
      ]
    },
    {
      "cell_type": "code",
      "metadata": {
        "id": "V62purNCyDiK",
        "colab_type": "code",
        "colab": {}
      },
      "source": [
        "def sigmoid(z):\n",
        "    return 1 / (1 + np.exp(-z))"
      ],
      "execution_count": null,
      "outputs": []
    },
    {
      "cell_type": "code",
      "metadata": {
        "id": "FJbc7PqJyDf2",
        "colab_type": "code",
        "colab": {}
      },
      "source": [
        "# Sigmoid Gradient\n",
        "def sigmoid_grad(z):\n",
        "    return sigmoid(z) * (1 - sigmoid(z))"
      ],
      "execution_count": null,
      "outputs": []
    },
    {
      "cell_type": "code",
      "metadata": {
        "id": "ln6pALTefdS0",
        "colab_type": "code",
        "colab": {}
      },
      "source": [
        "assert sigmoid_grad(0) == 0.25"
      ],
      "execution_count": null,
      "outputs": []
    },
    {
      "cell_type": "markdown",
      "metadata": {
        "id": "201j4kMagPlR",
        "colab_type": "text"
      },
      "source": [
        "Regularized cost function"
      ]
    },
    {
      "cell_type": "code",
      "metadata": {
        "id": "slTVgkJ5yDdj",
        "colab_type": "code",
        "colab": {}
      },
      "source": [
        "def cost_function(X, y, nn_parameters, input_layer_size=400, hidden_layer_size=25, num_label=10, regularization_lambda=10):\n",
        "    # parameter between input layer and hiden layer, size = 30 * 785, one column as bias \n",
        "    theta1 =  nn_parameters[:hidden_layer_size * (input_layer_size+1)].reshape((hidden_layer_size, input_layer_size+1))\n",
        "    # parameter between hiden layer and output layer, size: 10 * 31, also one column as bias \n",
        "    theta2 =  nn_parameters[hidden_layer_size * (input_layer_size+1):].reshape((num_label, hidden_layer_size+1))\n",
        "    num_train_data = X.shape[0]\n",
        "\n",
        "    # compute loss\n",
        "    X = np.c_[np.ones(num_train_data),X]  # (6006, 784) ->(6006, 785) add one column bias\n",
        "    # represent y as one hot vector\n",
        "    eye = np.eye(num_label)\n",
        "    y = eye[y].reshape((-1,10))  # (6006,1) ->(6006,10)\n",
        "    # forward propagation \n",
        "    a1 = X  # output of input layer (6006, 785)\n",
        "    z2 = a1.dot(theta1.T) # input of hidden layer(6006, 25)\n",
        "    a2 = sigmoid(z2) # output of hidden layer (6006, 25)\n",
        "    a2 = np.c_[np.ones(num_train_data),a2]  # (6006,26) add one column as bias\n",
        "    z3 = a2.dot(theta2.T) # input of output layer (6006,10)\n",
        "    output = sigmoid(z3) # output of neural network\n",
        "    # compute cross entropy \n",
        "    loss = np.sum(-y * np.log(output)- (1-y) * np.log(1-output)) / num_train_data\n",
        "    # compute regularizition term\n",
        "    regularizition_term = (np.sum(theta1[:,1:] ** 2) + np.sum(theta2[:,1:] ** 2)) * regularization_lambda/(2 * num_train_data)\n",
        "    loss = loss + regularizition_term\n",
        "\n",
        "    return np.round(loss,5)"
      ],
      "execution_count": null,
      "outputs": []
    },
    {
      "cell_type": "markdown",
      "metadata": {
        "id": "Ll9YA7UMg0l8",
        "colab_type": "text"
      },
      "source": [
        "Backpropagation"
      ]
    },
    {
      "cell_type": "code",
      "metadata": {
        "id": "OAUmYS-IyDbR",
        "colab_type": "code",
        "colab": {}
      },
      "source": [
        "def nn_gradient(X, y, nn_parameters, input_layer_size=400, hidden_layer_size=25, num_label=10, regularization_lambda=10):\n",
        "    # parameter between input layer and hiden layer, size = 30 * 785, one column as bias \n",
        "    theta1 =  nn_parameters[:hidden_layer_size * (input_layer_size+1)].reshape((hidden_layer_size, input_layer_size+1))\n",
        "    # parameter between hiden layer and output layer, size: 10 * 31, also one column as bias \n",
        "    theta2 =  nn_parameters[hidden_layer_size * (input_layer_size+1):].reshape((num_label, hidden_layer_size+1))\n",
        "    \n",
        "    theta1_grad = np.zeros_like(theta1)  # 30 * 785\n",
        "    theta2_grad = np.zeros_like(theta2)  # 10 * 31\n",
        "    \n",
        "    num_train_data = X.shape[0]\n",
        "    \n",
        "    X = np.c_[np.ones(num_train_data),X]  # (6006, 784) ->(6006, 785) add one column as bias\n",
        "    \n",
        "    # represent y as one hot vector\n",
        "    eye = np.eye(num_label)\n",
        "    y = eye[y].reshape((-1,10))  # (6006,1) ->(6006,10)\n",
        " \n",
        "    # backward propagation\n",
        "    for i in range(num_train_data):\n",
        "        z2 = theta1.dot(X[i,:]).reshape(1,-1) #(1,30)\n",
        "        a2 = sigmoid(z2)  # (1,30)\n",
        "        a2 = np.c_[1,a2]  # (1,31)\n",
        "        z3 = theta2.dot(a2.T) #(10,1)\n",
        "        output = sigmoid(z3).T  # (1,10)\n",
        "        \n",
        "        delta3 = output - y[i,:]\n",
        "        delta2 = delta3.dot(theta2[:,1:]) * sigmoid_grad(z2) # (1,25)\n",
        "        \n",
        "        theta1_grad = theta1_grad + delta2.T.dot(X[i,:].reshape((1,-1)))\n",
        "        theta2_grad = theta2_grad + delta3.T.dot(a2)\n",
        "    \n",
        "    # add regularization term to grad, as before we don't need add regularization on bias column\n",
        "    theta1_grad[:,0] = theta1_grad[:,0] / num_train_data\n",
        "    theta2_grad[:,0] = theta2_grad[:,0] / num_train_data\n",
        "\n",
        "    theta1_grad[:,1:] = theta1_grad[:,1:] / num_train_data + (regularization_lambda / num_train_data) * theta1[:,1:] \n",
        "    theta2_grad[:,1:] = theta2_grad[:,1:] / num_train_data + (regularization_lambda / num_train_data) * theta2[:,1:]\n",
        "    grad = np.concatenate((theta1_grad.reshape(-1),theta2_grad.reshape(-1)))\n",
        "\n",
        "    return grad"
      ],
      "execution_count": null,
      "outputs": []
    },
    {
      "cell_type": "markdown",
      "metadata": {
        "id": "HglsQbE0icv7",
        "colab_type": "text"
      },
      "source": [
        "Optimize"
      ]
    },
    {
      "cell_type": "code",
      "metadata": {
        "id": "TrPXya7GyDUP",
        "colab_type": "code",
        "colab": {}
      },
      "source": [
        "def Adam_optimizer(parameters, parameters_grad, learning_rate):\n",
        "    learning_rate = learning_rate\n",
        "    b1 = 0.9  # first decay rate \n",
        "    b2 = 0.99  # second decay rate\n",
        "    eps = 1e-8  # guarantee gradient is not zero\n",
        "    \n",
        "    m = np.zeros(np.shape(parameters_grad))  # first moment vector\n",
        "    v = np.zeros(np.shape(parameters_grad))  # second moment vector\n",
        "    \n",
        "    m = b1 * m + (1 - b1) * parameters_grad  \n",
        "    v = b2 * v + (1 - b2) * np.power(parameters_grad, 2)\n",
        "    \n",
        "    m_hat = m / (1 - b1)\n",
        "    v_hat = v / (1 - b2)\n",
        "    \n",
        "    parameters_update = learning_rate * m_hat / (np.sqrt(v_hat) + eps)\n",
        "    return parameters - parameters_update"
      ],
      "execution_count": null,
      "outputs": []
    },
    {
      "cell_type": "markdown",
      "metadata": {
        "id": "sq6fmK-EiiwT",
        "colab_type": "text"
      },
      "source": [
        "Predict"
      ]
    },
    {
      "cell_type": "code",
      "metadata": {
        "id": "2br4y-r0yDY_",
        "colab_type": "code",
        "colab": {}
      },
      "source": [
        "def predict(X,theta1,theta2):\n",
        "    # theta1 (30 * 785), theta2 (10 ,31), X(6006, 784)\n",
        "    X = np.c_[np.ones(X.shape[0]),X]\n",
        "    \n",
        "    hidden_layer = sigmoid(X.dot(theta1.T))  # (6006,30)\n",
        "    hidden_layer = np.c_[np.ones(hidden_layer.shape[0]),hidden_layer]  # (6006,31)add one column bias\n",
        "    output_pro = sigmoid(hidden_layer.dot(theta2.T))\n",
        "    predict = np.argmax(output_pro,axis=1)\n",
        "    return predict\n",
        "    "
      ],
      "execution_count": null,
      "outputs": []
    },
    {
      "cell_type": "markdown",
      "metadata": {
        "id": "xrchHJRXi97j",
        "colab_type": "text"
      },
      "source": [
        "Evaluate"
      ]
    },
    {
      "cell_type": "code",
      "metadata": {
        "id": "Fe8i6AF9yDWu",
        "colab_type": "code",
        "colab": {}
      },
      "source": [
        "def evaluate(predict,truth):\n",
        "    return np.round(1-np.mean(predict==truth.reshape(-1)),5)"
      ],
      "execution_count": null,
      "outputs": []
    },
    {
      "cell_type": "markdown",
      "metadata": {
        "id": "41FU_AGWi_8B",
        "colab_type": "text"
      },
      "source": [
        "Merge all functions into one model"
      ]
    },
    {
      "cell_type": "code",
      "metadata": {
        "id": "I4QxJfNui_eq",
        "colab_type": "code",
        "colab": {}
      },
      "source": [
        "def model(x_train, y_train, x_test, y_test, epoch=900, learning_rate=0.01, print_stat=False, adaptive_lr=False):\n",
        "  #  initialize all parameters \n",
        "  nn_parameters = np.random.rand(hidden_layer_size * (input_layer_size+1) + num_label * (hidden_layer_size+1))\n",
        "  train_accuracy = []\n",
        "  test_accuracy = []\n",
        "  costs = []\n",
        "\n",
        "  for i in range(epoch):\n",
        "      grad = nn_gradient(x_train, y_train, nn_parameters)\n",
        "      loss = cost_function(x_train, y_train, nn_parameters)\n",
        "      costs.append(loss)\n",
        "\n",
        "      # set adaptive learning rate, every 100 epoch learning rate minus 0.0015\n",
        "      if adaptive_lr:\n",
        "        if i % 100 ==0 and learning_rate > 0.0015:  \n",
        "            learning_rate-=0.0015\n",
        "\n",
        "      paras = Adam_optimizer(nn_parameters,grad,learning_rate)\n",
        "      \n",
        "      theta1 =  paras[:hidden_layer_size * (input_layer_size+1)].reshape((hidden_layer_size, input_layer_size+1))\n",
        "      theta2 =  paras[hidden_layer_size * (input_layer_size+1):].reshape((num_label, hidden_layer_size+1))\n",
        "      \n",
        "      nn_parameters = np.concatenate((theta1.reshape(-1),theta2.reshape(-1)))\n",
        "      \n",
        "      train_predict = predict(x_train,theta1,theta2)\n",
        "      train_acc = evaluate(train_predict,y_train)\n",
        "      train_accuracy.append(train_acc)\n",
        "      test_predict = predict(x_test,theta1,theta2)\n",
        "      test_acc = evaluate(test_predict,y_test)\n",
        "      test_accuracy.append(test_acc)\n",
        "\n",
        "      if print_stat:\n",
        "        if i % 100 == 0:\n",
        "          print(f'After {i} iteration, cost: {loss}, train error: {train_acc}, test error: {test_acc}')\n",
        "  \n",
        "  d = {\"costs\": costs,\n",
        "        \"test_predict\": test_predict,\n",
        "        \"train_predict\": train_predict,      \n",
        "        \"learning rate\": learning_rate,\n",
        "        \"num_iter\": epoch,\n",
        "        \"train_accuracy\": train_accuracy,\n",
        "        \"test_accuracy\": test_accuracy}\n",
        "    \n",
        "  print(f'train accuracy {(100 - 100*train_accuracy[-1])}%')  \n",
        "  print(f'test accuracy {(100 - 100*test_accuracy[-1])}%')\n",
        "\n",
        "  return d"
      ],
      "execution_count": null,
      "outputs": []
    },
    {
      "cell_type": "code",
      "metadata": {
        "id": "GQSGl-kvmJL9",
        "colab_type": "code",
        "colab": {
          "base_uri": "https://localhost:8080/",
          "height": 204
        },
        "outputId": "c43143c2-af0b-4168-9cb7-0af10b81e23a"
      },
      "source": [
        "d = model(train_x2, train_y, test_x2, test_y, 900, 0.01, True, False)"
      ],
      "execution_count": null,
      "outputs": [
        {
          "output_type": "stream",
          "text": [
            "After 0 iteration, cost: 116.14418, train error: 0.90127, test error: 0.90239\n",
            "After 100 iteration, cost: 1.86179, train error: 0.17682, test error: 0.16036\n",
            "After 200 iteration, cost: 1.43901, train error: 0.14269, test error: 0.13247\n",
            "After 300 iteration, cost: 1.38653, train error: 0.13603, test error: 0.12749\n",
            "After 400 iteration, cost: 1.38648, train error: 0.13603, test error: 0.12749\n",
            "After 500 iteration, cost: 1.38644, train error: 0.13603, test error: 0.12749\n",
            "After 600 iteration, cost: 1.38639, train error: 0.13603, test error: 0.12849\n",
            "After 700 iteration, cost: 1.38635, train error: 0.13603, test error: 0.12849\n",
            "After 800 iteration, cost: 1.3863, train error: 0.13603, test error: 0.12849\n",
            "train accuracy 85.56400000000001%\n",
            "test accuracy 86.65299999999999%\n"
          ],
          "name": "stdout"
        }
      ]
    },
    {
      "cell_type": "markdown",
      "metadata": {
        "id": "bDkZuLyZvOWk",
        "colab_type": "text"
      },
      "source": [
        "We can see clearly the cost is decreasing over iterations, which indicates the parameters are being learned."
      ]
    },
    {
      "cell_type": "code",
      "metadata": {
        "id": "2Y_8bUQxryRK",
        "colab_type": "code",
        "colab": {
          "base_uri": "https://localhost:8080/",
          "height": 295
        },
        "outputId": "9719e202-ff1e-4e96-cc01-0a21b58f2035"
      },
      "source": [
        "plt.plot(np.squeeze(d['costs']))\n",
        "plt.ylabel('cost')\n",
        "plt.xlabel('iteration')\n",
        "lr = 'Learning rate = ' + str(d['learning rate'])\n",
        "plt.title(lr)\n",
        "plt.show()"
      ],
      "execution_count": null,
      "outputs": [
        {
          "output_type": "display_data",
          "data": {
            "image/png": "[encoded data removed]",
            "text/plain": [
              "<Figure size 432x288 with 1 Axes>"
            ]
          },
          "metadata": {
            "tags": [],
            "needs_background": "light"
          }
        }
      ]
    },
    {
      "cell_type": "markdown",
      "metadata": {
        "id": "RUIBEZonxTXR",
        "colab_type": "text"
      },
      "source": [
        "We can see that both training and test errors are decreasing over iteration, which means the accuracy is increasing."
      ]
    },
    {
      "cell_type": "code",
      "metadata": {
        "id": "zWB8a4BEvsPc",
        "colab_type": "code",
        "colab": {
          "base_uri": "https://localhost:8080/",
          "height": 296
        },
        "outputId": "7970e38e-cd58-4aed-a26e-4c231c7b641f"
      },
      "source": [
        "plt.xlabel('iteration')\n",
        "plt.ylabel('error')\n",
        "plt.plot(np.squeeze(d['train_accuracy']), label='train_error')\n",
        "plt.plot(np.squeeze(d['test_accuracy']), label='test_error')\n",
        "plt.legend()"
      ],
      "execution_count": null,
      "outputs": [
        {
          "output_type": "execute_result",
          "data": {
            "text/plain": [
              "<matplotlib.legend.Legend at 0x7fe4315a7390>"
            ]
          },
          "metadata": {
            "tags": []
          },
          "execution_count": 91
        },
        {
          "output_type": "display_data",
          "data": {
            "image/png": "[encoded data removed]",
            "text/plain": [
              "<Figure size 432x288 with 1 Axes>"
            ]
          },
          "metadata": {
            "tags": [],
            "needs_background": "light"
          }
        }
      ]
    },
    {
      "cell_type": "markdown",
      "metadata": {
        "id": "Av9e1XnbxFvN",
        "colab_type": "text"
      },
      "source": [
        "### Further Analysis\n",
        "\n",
        "Choice of learning rate. In order for gradient descent to work, we have to choose the learning rate wisely. "
      ]
    },
    {
      "cell_type": "code",
      "metadata": {
        "id": "pRTB9fUfw_pK",
        "colab_type": "code",
        "colab": {
          "base_uri": "https://localhost:8080/",
          "height": 221
        },
        "outputId": "f29fdf7a-053a-4c0b-933e-5305a4a95058"
      },
      "source": [
        "learning_rates = [0.001, 0.0001]\n",
        "models = {}\n",
        "\n",
        "for i in learning_rates:\n",
        "  print(f'learning rate is: {i}')\n",
        "  models[str(i)] = model(train_x2, train_y, test_x2, test_y, 900, i, False, False)\n",
        "  print('\\n --------------- \\n')\n"
      ],
      "execution_count": null,
      "outputs": [
        {
          "output_type": "stream",
          "text": [
            "learning rate is: 0.001\n",
            "train accuracy 87.712%\n",
            "test accuracy 88.247%\n",
            "\n",
            " --------------- \n",
            "\n",
            "learning rate is: 0.0001\n",
            "train accuracy 10.439999999999998%\n",
            "test accuracy 10.259%\n",
            "\n",
            " --------------- \n",
            "\n"
          ],
          "name": "stdout"
        }
      ]
    },
    {
      "cell_type": "markdown",
      "metadata": {
        "id": "bbcfvTeB3aZO",
        "colab_type": "text"
      },
      "source": [
        "Different learning rate result in different costs and prediction results. If the learning rate is too high, the cost may oscillate up and down. It may even diverge. \n",
        "\n",
        "A lower cost doesn't mean a better model. We have to check if there's possibly overfitting. It happens when the training accuracy is way higher than test accuracy. \n",
        "\n",
        "After trying different learning rate, the model with learning rate 0.001 has the best performance. "
      ]
    },
    {
      "cell_type": "code",
      "metadata": {
        "id": "pKFblyQTw_sF",
        "colab_type": "code",
        "colab": {
          "base_uri": "https://localhost:8080/",
          "height": 295
        },
        "outputId": "d0fa585e-e039-4cd1-af42-12c0c3a7316a"
      },
      "source": [
        "plt.plot(np.squeeze(d['costs']), label=0.01)\n",
        "\n",
        "for i in learning_rates:\n",
        "  plt.plot(np.squeeze(models[str(i)]['costs']), label=str(i))\n",
        "\n",
        "plt.title('Cost using Different Learning Rate')\n",
        "plt.xlabel('iteration')\n",
        "plt.ylabel('cost')\n",
        "plt.legend()\n",
        "plt.show()"
      ],
      "execution_count": null,
      "outputs": [
        {
          "output_type": "display_data",
          "data": {
            "image/png": "[encoded data removed]",
            "text/plain": [
              "<Figure size 432x288 with 1 Axes>"
            ]
          },
          "metadata": {
            "tags": [],
            "needs_background": "light"
          }
        }
      ]
    },
    {
      "cell_type": "markdown",
      "metadata": {
        "id": "K1sbF-UCBX4r",
        "colab_type": "text"
      },
      "source": [
        "We also try to adopt adpative learning rate to test the performance of such model. "
      ]
    },
    {
      "cell_type": "code",
      "metadata": {
        "id": "M_w6fk1lw_mh",
        "colab_type": "code",
        "colab": {
          "base_uri": "https://localhost:8080/",
          "height": 204
        },
        "outputId": "01542a23-dfef-4511-ed94-c1d31f2c9f95"
      },
      "source": [
        "adaptive_d = model(train_x2, train_y, test_x2, test_y, 900, 0.01, True, True)"
      ],
      "execution_count": null,
      "outputs": [
        {
          "output_type": "stream",
          "text": [
            "After 0 iteration, cost: 124.96565, train error: 0.89777, test error: 0.8994\n",
            "After 100 iteration, cost: 2.07903, train error: 0.19697, test error: 0.18127\n",
            "After 200 iteration, cost: 1.35949, train error: 0.12821, test error: 0.11653\n",
            "After 300 iteration, cost: 1.22255, train error: 0.11056, test error: 0.10657\n",
            "After 400 iteration, cost: 1.16989, train error: 0.10423, test error: 0.10657\n",
            "After 500 iteration, cost: 1.08825, train error: 0.09491, test error: 0.09363\n",
            "After 600 iteration, cost: 0.99613, train error: 0.07742, test error: 0.08865\n",
            "After 700 iteration, cost: 0.96394, train error: 0.07209, test error: 0.08566\n",
            "After 800 iteration, cost: 0.95279, train error: 0.0701, test error: 0.08267\n",
            "train accuracy 93.24%\n",
            "test accuracy 91.932%\n"
          ],
          "name": "stdout"
        }
      ]
    },
    {
      "cell_type": "markdown",
      "metadata": {
        "id": "hGTkhlgnn8G9",
        "colab_type": "text"
      },
      "source": [
        "At last, we have reach an avergae accuracy 92.585%."
      ]
    },
    {
      "cell_type": "code",
      "metadata": {
        "id": "PmUbmxA4U2zp",
        "colab_type": "code",
        "colab": {
          "base_uri": "https://localhost:8080/",
          "height": 353
        },
        "outputId": "a53d55ac-424b-4a0c-967b-065c062a712c"
      },
      "source": [
        "plt.figure(figsize=((5,5)))\n",
        "plt.plot(np.arange(len(train_accuracy)),np.array(train_accuracy),color='r')\n",
        "plt.plot(np.arange(len(test_accuracy)),np.array(test_accuracy),color='b')\n",
        "plt.plot(np.arange(len(test_accuracy)),0.08*np.ones_like(train_accuracy), linestyle='--')\n",
        "plt.title('misclassification rate')\n",
        "plt.legend(['train_accuracy','test_accuracy','benchmark'])"
      ],
      "execution_count": null,
      "outputs": [
        {
          "output_type": "execute_result",
          "data": {
            "text/plain": [
              "<matplotlib.legend.Legend at 0x7f5a71d3b4e0>"
            ]
          },
          "metadata": {
            "tags": []
          },
          "execution_count": 22
        },
        {
          "output_type": "display_data",
          "data": {
            "image/png": "[encoded data removed]",
            "text/plain": [
              "<Figure size 360x360 with 1 Axes>"
            ]
          },
          "metadata": {
            "tags": [],
            "needs_background": "light"
          }
        }
      ]
    },
    {
      "cell_type": "code",
      "metadata": {
        "id": "SSsg0iiGU2xM",
        "colab_type": "code",
        "colab": {
          "base_uri": "https://localhost:8080/",
          "height": 34
        },
        "outputId": "95f25a30-a0e3-4b34-e2be-7eae4b17bcfb"
      },
      "source": [
        "# misclassification rate on test set\n",
        "train_predict = predict(test_x2,theta1,theta2)\n",
        "error = evaluate(train_predict,test_y)\n",
        "error"
      ],
      "execution_count": null,
      "outputs": [
        {
          "output_type": "execute_result",
          "data": {
            "text/plain": [
              "0.0817"
            ]
          },
          "metadata": {
            "tags": []
          },
          "execution_count": 24
        }
      ]
    },
    {
      "cell_type": "code",
      "metadata": {
        "id": "7TU4ILu_U2rX",
        "colab_type": "code",
        "colab": {}
      },
      "source": [
        ""
      ],
      "execution_count": null,
      "outputs": []
    },
    {
      "cell_type": "markdown",
      "metadata": {
        "id": "mX1lL3f4o-pb",
        "colab_type": "text"
      },
      "source": [
        "# Task 2 SVM"
      ]
    },
    {
      "cell_type": "code",
      "metadata": {
        "id": "G49i3RcSpAON",
        "colab_type": "code",
        "colab": {}
      },
      "source": [
        "# https://courses.csail.mit.edu/6.867/wiki/images/a/a7/Qp-cvxopt.pdf"
      ],
      "execution_count": null,
      "outputs": []
    },
    {
      "cell_type": "code",
      "metadata": {
        "id": "8p534My7rFO7",
        "colab_type": "code",
        "colab": {
          "base_uri": "https://localhost:8080/",
          "height": 34
        },
        "outputId": "e04945f1-a251-46e2-fc8f-461c64e5fbb0"
      },
      "source": [
        "data = np.loadtxt('sml-dataset/hw4/iris-pca.txt')\n",
        "data.shape"
      ],
      "execution_count": null,
      "outputs": [
        {
          "output_type": "execute_result",
          "data": {
            "text/plain": [
              "(100, 3)"
            ]
          },
          "metadata": {
            "tags": []
          },
          "execution_count": 22
        }
      ]
    },
    {
      "cell_type": "code",
      "metadata": {
        "id": "DlHbEAUtrFAp",
        "colab_type": "code",
        "colab": {
          "base_uri": "https://localhost:8080/",
          "height": 282
        },
        "outputId": "f1fa44bf-5122-4671-ec17-dd99fa0e1c66"
      },
      "source": [
        "plt.scatter(data[:,0],data[:,1],c=data[:,2])"
      ],
      "execution_count": null,
      "outputs": [
        {
          "output_type": "execute_result",
          "data": {
            "text/plain": [
              "<matplotlib.collections.PathCollection at 0x7fae9a839710>"
            ]
          },
          "metadata": {
            "tags": []
          },
          "execution_count": 27
        },
        {
          "output_type": "display_data",
          "data": {
            "image/png": "[encoded data removed]",
            "text/plain": [
              "<Figure size 432x288 with 1 Axes>"
            ]
          },
          "metadata": {
            "tags": [],
            "needs_background": "light"
          }
        }
      ]
    },
    {
      "cell_type": "code",
      "metadata": {
        "id": "guLASajByBnm",
        "colab_type": "code",
        "colab": {
          "base_uri": "https://localhost:8080/",
          "height": 84
        },
        "outputId": "d0925db7-d45a-4fd4-84b4-990792446601"
      },
      "source": [
        "from sklearn import svm\n",
        "clf = svm.SVC()\n",
        "clf.fit(data[:,[0,1]],data[:,2])"
      ],
      "execution_count": null,
      "outputs": [
        {
          "output_type": "execute_result",
          "data": {
            "text/plain": [
              "SVC(C=1.0, break_ties=False, cache_size=200, class_weight=None, coef0=0.0,\n",
              "    decision_function_shape='ovr', degree=3, gamma='scale', kernel='rbf',\n",
              "    max_iter=-1, probability=False, random_state=None, shrinking=True,\n",
              "    tol=0.001, verbose=False)"
            ]
          },
          "metadata": {
            "tags": []
          },
          "execution_count": 23
        }
      ]
    },
    {
      "cell_type": "code",
      "metadata": {
        "id": "or8-uc4eyBlJ",
        "colab_type": "code",
        "colab": {}
      },
      "source": [
        "# https://jakevdp.github.io/PythonDataScienceHandbook/05.07-support-vector-machines.html\n",
        "def plot_svc_decision_function(model, ax=None, plot_support=True):\n",
        "    \"\"\"Plot the decision function for a 2D SVC\"\"\"\n",
        "    if ax is None:\n",
        "        ax = plt.gca()\n",
        "    xlim = ax.get_xlim()\n",
        "    ylim = ax.get_ylim()\n",
        "    \n",
        "    # create grid to evaluate model\n",
        "    x = np.linspace(xlim[0], xlim[1], 30)\n",
        "    y = np.linspace(ylim[0], ylim[1], 30)\n",
        "    Y, X = np.meshgrid(y, x)\n",
        "    xy = np.vstack([X.ravel(), Y.ravel()]).T\n",
        "    P = model.decision_function(xy).reshape(X.shape)\n",
        "    \n",
        "    # plot decision boundary and margins\n",
        "    ax.contour(X, Y, P, colors='k',\n",
        "               levels=[-1, 0, 1], alpha=0.5,\n",
        "               linestyles=['--', '-', '--'])\n",
        "    \n",
        "    # plot support vectors\n",
        "    if plot_support:\n",
        "        ax.scatter(model.support_vectors_[:, 0],\n",
        "                   model.support_vectors_[:, 1],\n",
        "                   s=300, linewidth=1, facecolors='none');\n",
        "    ax.set_xlim(xlim)\n",
        "    ax.set_ylim(ylim)"
      ],
      "execution_count": null,
      "outputs": []
    },
    {
      "cell_type": "code",
      "metadata": {
        "id": "0a_kGYvAyBis",
        "colab_type": "code",
        "colab": {
          "base_uri": "https://localhost:8080/",
          "height": 265
        },
        "outputId": "00fc98c7-b498-44ec-e5f3-4f80e38e6eb3"
      },
      "source": [
        "plt.scatter(data[:,0],data[:,1],c=data[:,2])\n",
        "plot_svc_decision_function(clf)"
      ],
      "execution_count": null,
      "outputs": [
        {
          "output_type": "display_data",
          "data": {
            "image/png": "[encoded data removed]",
            "text/plain": [
              "<Figure size 432x288 with 1 Axes>"
            ]
          },
          "metadata": {
            "tags": [],
            "needs_background": "light"
          }
        }
      ]
    },
    {
      "cell_type": "code",
      "metadata": {
        "id": "YsIdiFYayBgY",
        "colab_type": "code",
        "colab": {}
      },
      "source": [
        ""
      ],
      "execution_count": null,
      "outputs": []
    },
    {
      "cell_type": "code",
      "metadata": {
        "id": "2qiq2WQSyBWY",
        "colab_type": "code",
        "colab": {}
      },
      "source": [
        ""
      ],
      "execution_count": null,
      "outputs": []
    },
    {
      "cell_type": "markdown",
      "metadata": {
        "id": "dlyaRUAppA-2",
        "colab_type": "text"
      },
      "source": [
        "# Task 3 Gaussian Processes"
      ]
    },
    {
      "cell_type": "code",
      "metadata": {
        "id": "mEGCMmkKpGVz",
        "colab_type": "code",
        "colab": {}
      },
      "source": [
        ""
      ],
      "execution_count": null,
      "outputs": []
    },
    {
      "cell_type": "code",
      "metadata": {
        "id": "y_hCkeyqyCT5",
        "colab_type": "code",
        "colab": {}
      },
      "source": [
        ""
      ],
      "execution_count": null,
      "outputs": []
    },
    {
      "cell_type": "code",
      "metadata": {
        "id": "zw009j3oyCRn",
        "colab_type": "code",
        "colab": {}
      },
      "source": [
        ""
      ],
      "execution_count": null,
      "outputs": []
    },
    {
      "cell_type": "code",
      "metadata": {
        "id": "9y_jjLFWyCPV",
        "colab_type": "code",
        "colab": {}
      },
      "source": [
        ""
      ],
      "execution_count": null,
      "outputs": []
    },
    {
      "cell_type": "code",
      "metadata": {
        "id": "0IWCwqNayCM4",
        "colab_type": "code",
        "colab": {}
      },
      "source": [
        ""
      ],
      "execution_count": null,
      "outputs": []
    },
    {
      "cell_type": "code",
      "metadata": {
        "id": "3Klc3Vx2yCKw",
        "colab_type": "code",
        "colab": {}
      },
      "source": [
        ""
      ],
      "execution_count": null,
      "outputs": []
    },
    {
      "cell_type": "code",
      "metadata": {
        "id": "Bohr_nIXyCId",
        "colab_type": "code",
        "colab": {}
      },
      "source": [
        ""
      ],
      "execution_count": null,
      "outputs": []
    }
  ]
}